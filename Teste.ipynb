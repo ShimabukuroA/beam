{
 "cells": [
  {
   "cell_type": "code",
   "execution_count": 5,
   "metadata": {},
   "outputs": [],
   "source": [
    "import apache_beam as beam\n",
    "from __future__ import print_function"
   ]
  },
  {
   "cell_type": "code",
   "execution_count": 3,
   "metadata": {},
   "outputs": [],
   "source": [
    "def splitline(row):\n",
    "\tparse = row.split(\";\")\n",
    "\tuf = parse[9]\n",
    "\t#ies = parse[1]\n",
    "\t#nome = parse[2]\n",
    "\treturn (uf)"
   ]
  },
  {
   "cell_type": "code",
   "execution_count": 6,
   "metadata": {},
   "outputs": [
    {
     "data": {
      "text/plain": [
       "<PCollection[print.None] at 0x7f1d83290510>"
      ]
     },
     "execution_count": 6,
     "metadata": {},
     "output_type": "execute_result"
    }
   ],
   "source": [
    "pipeline = beam.Pipeline()\n",
    "lines = pipeline | beam.io.ReadFromText('./data/cadastro_ies.csv')\n",
    "\n",
    "words = lines  | \"split\" >> beam.Map(splitline)\n",
    "#words |  \"print\" >> beam.Map(lambda row: print(row))\n",
    "maps = words\t| \"map\" >> beam.Map(lambda row: (str(row),1))\n",
    "#maps |  \"print\" >> beam.ParDo(lambda row: print(row))\n",
    "counts = maps    | \"group\" >> beam.CombinePerKey(sum)\n",
    "counts |  \"print\" >> beam.Map(lambda row: print(\"%s : %d\" %(row[0], row[1])))"
   ]
  },
  {
   "cell_type": "code",
   "execution_count": 7,
   "metadata": {},
   "outputs": [
    {
     "name": "stdout",
     "output_type": "stream",
     "text": [
      "BA : 115\n",
      "DF : 59\n",
      "PR : 185\n",
      "RR : 7\n",
      "RS : 111\n",
      "Sigla da UF : 1\n",
      "PB : 38\n",
      "TO : 34\n",
      "PA : 33\n",
      "PE : 94\n",
      "RN : 25\n",
      "RO : 32\n",
      "RJ : 137\n",
      "AC : 11\n",
      "AM : 19\n",
      "AL : 26\n",
      "CE : 53\n",
      "AP : 16\n",
      "GO : 82\n",
      "ES : 88\n",
      "SIGLA : 1\n",
      "MG : 355\n",
      "PI : 37\n",
      "MA : 30\n",
      "SP : 577\n",
      "MT : 57\n",
      "MS : 37\n",
      "SC : 93\n",
      "SE : 14\n"
     ]
    },
    {
     "data": {
      "text/plain": [
       "<apache_beam.runners.portability.fn_api_runner.RunnerResult at 0x7f1d82ca3210>"
      ]
     },
     "execution_count": 7,
     "metadata": {},
     "output_type": "execute_result"
    }
   ],
   "source": [
    "pipeline.run()"
   ]
  }
 ],
 "metadata": {
  "kernelspec": {
   "display_name": "beam",
   "language": "python",
   "name": "beam"
  },
  "language_info": {
   "codemirror_mode": {
    "name": "ipython",
    "version": 2
   },
   "file_extension": ".py",
   "mimetype": "text/x-python",
   "name": "python",
   "nbconvert_exporter": "python",
   "pygments_lexer": "ipython2",
   "version": "2.7.15rc1"
  }
 },
 "nbformat": 4,
 "nbformat_minor": 2
}
